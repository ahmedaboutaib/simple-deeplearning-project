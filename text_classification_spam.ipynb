{
 "cells": [
  {
   "cell_type": "markdown",
   "metadata": {},
   "source": [
    "### import library"
   ]
  },
  {
   "cell_type": "code",
   "execution_count": 43,
   "metadata": {},
   "outputs": [],
   "source": [
    "import numpy  as np\n",
    "from tensorflow.keras.preprocessing.text import Tokenizer\n",
    "from tensorflow.keras.preprocessing.sequence import pad_sequences\n",
    "from tensorflow.keras.utils import to_categorical\n",
    "from sklearn.model_selection import train_test_split\n",
    "import tqdm\n",
    "from tensorflow.keras.models import Sequential\n",
    "from tensorflow.keras.layers import Embedding, LSTM, Dropout, Dense\n"
   ]
  },
  {
   "cell_type": "markdown",
   "metadata": {},
   "source": [
    "### Load data and process data"
   ]
  },
  {
   "cell_type": "code",
   "execution_count": 25,
   "metadata": {},
   "outputs": [],
   "source": [
    "def load_data(path):\n",
    "    text = []\n",
    "    label = []\n",
    "    with open(path) as file :\n",
    "        for line in file:\n",
    "            tokens = line.split()\n",
    "            label.append(tokens[0])\n",
    "            text.append(' '.join(tokens[1:]))\n",
    "    return text, label"
   ]
  },
  {
   "cell_type": "code",
   "execution_count": 26,
   "metadata": {},
   "outputs": [],
   "source": [
    "X,y = load_data(\"data/data\")"
   ]
  },
  {
   "cell_type": "code",
   "execution_count": 27,
   "metadata": {},
   "outputs": [
    {
     "name": "stdout",
     "output_type": "stream",
     "text": [
      "total text :5574\n",
      "total label :5574\n"
     ]
    }
   ],
   "source": [
    "print(f\"total text :{len(X)}\" )\n",
    "print(f\"total label :{len(y)}\" )"
   ]
  },
  {
   "cell_type": "code",
   "execution_count": 28,
   "metadata": {},
   "outputs": [
    {
     "data": {
      "text/plain": [
       "'Go until jurong point, crazy.. Available only in bugis n great world la e buffet... Cine there got amore wat...'"
      ]
     },
     "execution_count": 28,
     "metadata": {},
     "output_type": "execute_result"
    }
   ],
   "source": [
    "X[0]"
   ]
  },
  {
   "cell_type": "markdown",
   "metadata": {},
   "source": [
    "Define word-to-integer and integer-to-word mappings"
   ]
  },
  {
   "cell_type": "code",
   "execution_count": 29,
   "metadata": {},
   "outputs": [],
   "source": [
    "word2int= {'ham':0,'spam':1}\n",
    "int2word= {0:'ham',1:'spam'}"
   ]
  },
  {
   "cell_type": "code",
   "execution_count": 30,
   "metadata": {},
   "outputs": [],
   "source": [
    "tokenizer = Tokenizer()\n",
    "tokenizer.fit_on_texts(X)\n",
    "x_num = tokenizer.texts_to_sequences(X)\n",
    "x_num = np.array(x_num,dtype=object)\n",
    "y=np.array(y)"
   ]
  },
  {
   "cell_type": "code",
   "execution_count": 31,
   "metadata": {},
   "outputs": [
    {
     "name": "stdout",
     "output_type": "stream",
     "text": [
      "Go until jurong point, crazy.. Available only in bugis n great world la e buffet... Cine there got amore wat...\n",
      "[49, 472, 4436, 843, 756, 659, 64, 8, 1328, 87, 123, 352, 1329, 148, 2996, 1330, 67, 58, 4437, 144]\n",
      "----------------------------------------------------------------------------------------------------\n",
      "Ok lar... Joking wif u oni...\n",
      "[46, 337, 1500, 473, 6, 1941]\n",
      "----------------------------------------------------------------------------------------------------\n",
      "Free entry in 2 a wkly comp to win FA Cup final tkts 21st May 2005. Text FA to 87121 to receive entry question(std txt rate)T&C's apply 08452810075over18's\n",
      "[47, 490, 8, 19, 4, 798, 902, 2, 176, 1942, 1106, 660, 1943, 2331, 261, 2332, 71, 1942, 2, 1944, 2, 338, 490, 556, 961, 73, 392, 174, 661, 393, 2997]\n",
      "----------------------------------------------------------------------------------------------------\n",
      "U dun say so early hor... U c already then say...\n",
      "[6, 248, 150, 23, 383, 2998, 6, 139, 154, 57, 150]\n",
      "----------------------------------------------------------------------------------------------------\n",
      "Nah I don't think he goes to usf, he lives around here though\n",
      "[1025, 1, 97, 107, 69, 491, 2, 962, 69, 1945, 221, 111, 474]\n",
      "----------------------------------------------------------------------------------------------------\n",
      "FreeMsg Hey there darling it's been 3 week's now and no word back! I'd like some fun you up for it still? Tb ok! XxX std chgs to send, Â£1.50 to rcv\n",
      "[799, 129, 67, 1691, 145, 108, 158, 1946, 21, 7, 38, 339, 88, 903, 55, 115, 415, 3, 44, 12, 14, 85, 1947, 46, 366, 961, 4438, 2, 68, 324, 232, 2, 2999]\n",
      "----------------------------------------------------------------------------------------------------\n"
     ]
    }
   ],
   "source": [
    "for i in range(6):\n",
    "    print(X[i])\n",
    "    print(x_num[i])\n",
    "    print(\"--\"*50)"
   ]
  },
  {
   "cell_type": "code",
   "execution_count": 32,
   "metadata": {},
   "outputs": [],
   "source": [
    "# Assume sen_length is defined somewhere in your code\n",
    "sen_length = 100\n",
    "# padding sequences \n",
    "x_num = pad_sequences(x_num,maxlen=sen_length)\n",
    "y = [word2int[i] for i in y]"
   ]
  },
  {
   "cell_type": "code",
   "execution_count": 34,
   "metadata": {},
   "outputs": [
    {
     "name": "stdout",
     "output_type": "stream",
     "text": [
      "0\n",
      "[1. 0.]\n",
      "----------------------\n",
      "0\n",
      "[1. 0.]\n",
      "----------------------\n",
      "1\n",
      "[0. 1.]\n",
      "----------------------\n",
      "0\n",
      "[1. 0.]\n",
      "----------------------\n",
      "0\n",
      "[1. 0.]\n",
      "----------------------\n",
      "1\n",
      "[0. 1.]\n",
      "----------------------\n"
     ]
    }
   ],
   "source": [
    "# Convert labels to categorical format\n",
    "y_categorical = to_categorical(y)\n",
    "for i in range(6):\n",
    "    print(y[i]) \n",
    "    print(y_categorical[i])\n",
    "    print(\"----------------------\") "
   ]
  },
  {
   "cell_type": "code",
   "execution_count": 36,
   "metadata": {},
   "outputs": [
    {
     "name": "stdout",
     "output_type": "stream",
     "text": [
      "X_train: (4180, 100)\n",
      "X_test: (1394, 100)\n",
      "Y_train: (4180, 2)\n",
      "Y_test: (1394, 2)\n"
     ]
    }
   ],
   "source": [
    "# Split the dataset into training and test sets\n",
    "X_train, X_test, Y_train, Y_test = train_test_split(x_num, y_categorical, test_size=0.25, random_state=7)\n",
    "\n",
    "# Print shapes of the split datasets\n",
    "print('X_train:', X_train.shape)\n",
    "print('X_test:', X_test.shape)\n",
    "print('Y_train:', Y_train.shape)\n",
    "print('Y_test:', Y_test.shape)\n"
   ]
  },
  {
   "cell_type": "code",
   "execution_count": 38,
   "metadata": {},
   "outputs": [
    {
     "name": "stderr",
     "output_type": "stream",
     "text": [
      "Reading the Glove file: 400000it [00:24, 16466.35it/s]\n"
     ]
    }
   ],
   "source": [
    "\n",
    "def generate_embedding(tokenizer, dim):\n",
    "    embedding = {}\n",
    "    with open(f\"data/glove.6B/glove.6B.{dim}d.txt\", encoding='utf8') as file:\n",
    "        for line in tqdm.tqdm(file, desc=\"Reading the Glove file\"):\n",
    "            tokens = line.split()\n",
    "            word = tokens[0]\n",
    "            vector = np.array(tokens[1:], dtype='float32')\n",
    "            embedding[word] = vector\n",
    "\n",
    "    word_index = tokenizer.word_index\n",
    "    embedding_matrix = np.zeros((len(word_index) + 1, dim))\n",
    "    for word, index in word_index.items():\n",
    "        vector = embedding.get(word)\n",
    "        if vector is not None:\n",
    "            embedding_matrix[index] = vector\n",
    "\n",
    "    return embedding_matrix\n",
    "\n",
    "# Generate the embedding matrix\n",
    "embedding_matrix = generate_embedding(tokenizer, 100)"
   ]
  },
  {
   "cell_type": "code",
   "execution_count": 42,
   "metadata": {},
   "outputs": [
    {
     "name": "stdout",
     "output_type": "stream",
     "text": [
      "Embedding vector for 'this': [-0.57058001  0.44183001  0.70102    -0.41712999 -0.34057999  0.02339\n",
      " -0.071537    0.48177001 -0.013121    0.16834    -0.13389     0.040626\n",
      "  0.15827    -0.44341999 -0.019403   -0.009661   -0.046284    0.093228\n",
      " -0.27331001  0.22849999  0.33089    -0.36474001  0.078741    0.3585\n",
      "  0.44757    -0.2299      0.18076999 -0.62650001  0.053852   -0.29154\n",
      " -0.42559999  0.62902999  0.14393    -0.046004   -0.21007     0.48879001\n",
      " -0.057698    0.37430999 -0.030075   -0.34494001 -0.29701999  0.15095\n",
      "  0.28248    -0.16577999  0.076131   -0.093016    0.79364997 -0.60488999\n",
      " -0.18874    -1.01730001  0.31962001 -0.16344     0.54176998  1.17250001\n",
      " -0.47874999 -3.3842001  -0.081301   -0.35280001  1.83720005  0.44516\n",
      " -0.52666003  0.99786001 -0.32178     0.033462    1.17830002 -0.072905\n",
      "  0.39737001  0.26166001  0.33111    -0.35629001 -0.16558    -0.44382\n",
      " -0.14183    -0.37976     0.28994    -0.029114   -0.35168999 -0.27693999\n",
      " -1.34399998  0.19554999  0.16887     0.040237   -0.80211997  0.23366\n",
      " -1.38370001 -0.023132    0.085395   -0.74050999 -0.073934   -0.58837998\n",
      " -0.085735   -0.10525    -0.51571     0.15038    -0.16694    -0.16372\n",
      " -0.22702    -0.66101998  0.47196999  0.37253001]\n"
     ]
    }
   ],
   "source": [
    "# Get the index of the word \"this\" from the tokenizer\n",
    "word_index = tokenizer.word_index\n",
    "word_index_this = word_index.get(\"this\")\n",
    "\n",
    "# Access the embedding vector for the word \"this\" from the embedding matrix\n",
    "if word_index_this is not None:\n",
    "    embedding_vector = embedding_matrix[word_index_this]\n",
    "    print(f\"Embedding vector for 'this': {embedding_vector}\")\n",
    "else:\n",
    "    print(\"The word 'this' is not in the tokenizer's word index.\")\n"
   ]
  },
  {
   "cell_type": "code",
   "execution_count": 46,
   "metadata": {},
   "outputs": [
    {
     "data": {
      "text/plain": [
       "(9013, 100)"
      ]
     },
     "execution_count": 46,
     "metadata": {},
     "output_type": "execute_result"
    }
   ],
   "source": [
    "embedding_matrix.shape"
   ]
  },
  {
   "cell_type": "markdown",
   "metadata": {},
   "source": [
    "### build model"
   ]
  },
  {
   "cell_type": "code",
   "execution_count": 47,
   "metadata": {},
   "outputs": [
    {
     "name": "stderr",
     "output_type": "stream",
     "text": [
      "d:\\github\\simple-deep-learning-project\\simple-project\\Lib\\site-packages\\keras\\src\\layers\\core\\embedding.py:93: UserWarning: Do not pass an `input_shape`/`input_dim` argument to a layer. When using Sequential models, prefer using an `Input(shape)` object as the first layer in the model instead.\n",
      "  super().__init__(**kwargs)\n"
     ]
    },
    {
     "data": {
      "text/html": [
       "<pre style=\"white-space:pre;overflow-x:auto;line-height:normal;font-family:Menlo,'DejaVu Sans Mono',consolas,'Courier New',monospace\"><span style=\"font-weight: bold\">Model: \"sequential_2\"</span>\n",
       "</pre>\n"
      ],
      "text/plain": [
       "\u001b[1mModel: \"sequential_2\"\u001b[0m\n"
      ]
     },
     "metadata": {},
     "output_type": "display_data"
    },
    {
     "data": {
      "text/html": [
       "<pre style=\"white-space:pre;overflow-x:auto;line-height:normal;font-family:Menlo,'DejaVu Sans Mono',consolas,'Courier New',monospace\">┏━━━━━━━━━━━━━━━━━━━━━━━━━━━━━━━━━┳━━━━━━━━━━━━━━━━━━━━━━━━┳━━━━━━━━━━━━━━━┓\n",
       "┃<span style=\"font-weight: bold\"> Layer (type)                    </span>┃<span style=\"font-weight: bold\"> Output Shape           </span>┃<span style=\"font-weight: bold\">       Param # </span>┃\n",
       "┡━━━━━━━━━━━━━━━━━━━━━━━━━━━━━━━━━╇━━━━━━━━━━━━━━━━━━━━━━━━╇━━━━━━━━━━━━━━━┩\n",
       "│ embedding_2 (<span style=\"color: #0087ff; text-decoration-color: #0087ff\">Embedding</span>)         │ (<span style=\"color: #00d7ff; text-decoration-color: #00d7ff\">None</span>, <span style=\"color: #00af00; text-decoration-color: #00af00\">100</span>, <span style=\"color: #00af00; text-decoration-color: #00af00\">100</span>)       │       <span style=\"color: #00af00; text-decoration-color: #00af00\">901,300</span> │\n",
       "├─────────────────────────────────┼────────────────────────┼───────────────┤\n",
       "│ lstm_2 (<span style=\"color: #0087ff; text-decoration-color: #0087ff\">LSTM</span>)                   │ (<span style=\"color: #00d7ff; text-decoration-color: #00d7ff\">None</span>, <span style=\"color: #00af00; text-decoration-color: #00af00\">128</span>)            │       <span style=\"color: #00af00; text-decoration-color: #00af00\">117,248</span> │\n",
       "├─────────────────────────────────┼────────────────────────┼───────────────┤\n",
       "│ dropout_2 (<span style=\"color: #0087ff; text-decoration-color: #0087ff\">Dropout</span>)             │ (<span style=\"color: #00d7ff; text-decoration-color: #00d7ff\">None</span>, <span style=\"color: #00af00; text-decoration-color: #00af00\">128</span>)            │             <span style=\"color: #00af00; text-decoration-color: #00af00\">0</span> │\n",
       "├─────────────────────────────────┼────────────────────────┼───────────────┤\n",
       "│ dense_2 (<span style=\"color: #0087ff; text-decoration-color: #0087ff\">Dense</span>)                 │ (<span style=\"color: #00d7ff; text-decoration-color: #00d7ff\">None</span>, <span style=\"color: #00af00; text-decoration-color: #00af00\">2</span>)              │           <span style=\"color: #00af00; text-decoration-color: #00af00\">258</span> │\n",
       "└─────────────────────────────────┴────────────────────────┴───────────────┘\n",
       "</pre>\n"
      ],
      "text/plain": [
       "┏━━━━━━━━━━━━━━━━━━━━━━━━━━━━━━━━━┳━━━━━━━━━━━━━━━━━━━━━━━━┳━━━━━━━━━━━━━━━┓\n",
       "┃\u001b[1m \u001b[0m\u001b[1mLayer (type)                   \u001b[0m\u001b[1m \u001b[0m┃\u001b[1m \u001b[0m\u001b[1mOutput Shape          \u001b[0m\u001b[1m \u001b[0m┃\u001b[1m \u001b[0m\u001b[1m      Param #\u001b[0m\u001b[1m \u001b[0m┃\n",
       "┡━━━━━━━━━━━━━━━━━━━━━━━━━━━━━━━━━╇━━━━━━━━━━━━━━━━━━━━━━━━╇━━━━━━━━━━━━━━━┩\n",
       "│ embedding_2 (\u001b[38;5;33mEmbedding\u001b[0m)         │ (\u001b[38;5;45mNone\u001b[0m, \u001b[38;5;34m100\u001b[0m, \u001b[38;5;34m100\u001b[0m)       │       \u001b[38;5;34m901,300\u001b[0m │\n",
       "├─────────────────────────────────┼────────────────────────┼───────────────┤\n",
       "│ lstm_2 (\u001b[38;5;33mLSTM\u001b[0m)                   │ (\u001b[38;5;45mNone\u001b[0m, \u001b[38;5;34m128\u001b[0m)            │       \u001b[38;5;34m117,248\u001b[0m │\n",
       "├─────────────────────────────────┼────────────────────────┼───────────────┤\n",
       "│ dropout_2 (\u001b[38;5;33mDropout\u001b[0m)             │ (\u001b[38;5;45mNone\u001b[0m, \u001b[38;5;34m128\u001b[0m)            │             \u001b[38;5;34m0\u001b[0m │\n",
       "├─────────────────────────────────┼────────────────────────┼───────────────┤\n",
       "│ dense_2 (\u001b[38;5;33mDense\u001b[0m)                 │ (\u001b[38;5;45mNone\u001b[0m, \u001b[38;5;34m2\u001b[0m)              │           \u001b[38;5;34m258\u001b[0m │\n",
       "└─────────────────────────────────┴────────────────────────┴───────────────┘\n"
      ]
     },
     "metadata": {},
     "output_type": "display_data"
    },
    {
     "data": {
      "text/html": [
       "<pre style=\"white-space:pre;overflow-x:auto;line-height:normal;font-family:Menlo,'DejaVu Sans Mono',consolas,'Courier New',monospace\"><span style=\"font-weight: bold\"> Total params: </span><span style=\"color: #00af00; text-decoration-color: #00af00\">1,018,806</span> (3.89 MB)\n",
       "</pre>\n"
      ],
      "text/plain": [
       "\u001b[1m Total params: \u001b[0m\u001b[38;5;34m1,018,806\u001b[0m (3.89 MB)\n"
      ]
     },
     "metadata": {},
     "output_type": "display_data"
    },
    {
     "data": {
      "text/html": [
       "<pre style=\"white-space:pre;overflow-x:auto;line-height:normal;font-family:Menlo,'DejaVu Sans Mono',consolas,'Courier New',monospace\"><span style=\"font-weight: bold\"> Trainable params: </span><span style=\"color: #00af00; text-decoration-color: #00af00\">117,506</span> (459.01 KB)\n",
       "</pre>\n"
      ],
      "text/plain": [
       "\u001b[1m Trainable params: \u001b[0m\u001b[38;5;34m117,506\u001b[0m (459.01 KB)\n"
      ]
     },
     "metadata": {},
     "output_type": "display_data"
    },
    {
     "data": {
      "text/html": [
       "<pre style=\"white-space:pre;overflow-x:auto;line-height:normal;font-family:Menlo,'DejaVu Sans Mono',consolas,'Courier New',monospace\"><span style=\"font-weight: bold\"> Non-trainable params: </span><span style=\"color: #00af00; text-decoration-color: #00af00\">901,300</span> (3.44 MB)\n",
       "</pre>\n"
      ],
      "text/plain": [
       "\u001b[1m Non-trainable params: \u001b[0m\u001b[38;5;34m901,300\u001b[0m (3.44 MB)\n"
      ]
     },
     "metadata": {},
     "output_type": "display_data"
    }
   ],
   "source": [
    "\n",
    "\n",
    "def build_model(embedding_matrix, lstm_units, sen_length):\n",
    "    model = Sequential()\n",
    "    model.add(Embedding(input_dim=embedding_matrix.shape[0], \n",
    "                        output_dim=embedding_matrix.shape[1],\n",
    "                        weights=[embedding_matrix], \n",
    "                        trainable=False,\n",
    "                        input_shape=(sen_length,)))\n",
    "    model.add(LSTM(lstm_units, recurrent_dropout=0.2))\n",
    "    model.add(Dropout(0.3))  # Optional, but typically helps with regularization\n",
    "    model.add(Dense(2, activation='softmax'))\n",
    "    model.compile(optimizer='rmsprop', \n",
    "                  loss='categorical_crossentropy', \n",
    "                  metrics=['accuracy'])\n",
    "    \n",
    "    model.summary()\n",
    "    return model\n",
    "\n",
    "# Example usage:\n",
    "# embedding_matrix = generate_embedding(tokenizer, 100)  # Ensure this is correctly generated\n",
    "\n",
    "model = build_model(embedding_matrix, lstm_units=128, sen_length=100)\n"
   ]
  },
  {
   "cell_type": "code",
   "execution_count": 48,
   "metadata": {},
   "outputs": [
    {
     "name": "stdout",
     "output_type": "stream",
     "text": [
      "Epoch 1/10\n",
      "\u001b[1m66/66\u001b[0m \u001b[32m━━━━━━━━━━━━━━━━━━━━\u001b[0m\u001b[37m\u001b[0m \u001b[1m17s\u001b[0m 193ms/step - accuracy: 0.8972 - loss: 0.2563 - val_accuracy: 0.9699 - val_loss: 0.0937\n",
      "Epoch 2/10\n",
      "\u001b[1m66/66\u001b[0m \u001b[32m━━━━━━━━━━━━━━━━━━━━\u001b[0m\u001b[37m\u001b[0m \u001b[1m16s\u001b[0m 249ms/step - accuracy: 0.9693 - loss: 0.0943 - val_accuracy: 0.9727 - val_loss: 0.0840\n",
      "Epoch 3/10\n",
      "\u001b[1m66/66\u001b[0m \u001b[32m━━━━━━━━━━━━━━━━━━━━\u001b[0m\u001b[37m\u001b[0m \u001b[1m15s\u001b[0m 227ms/step - accuracy: 0.9804 - loss: 0.0672 - val_accuracy: 0.9763 - val_loss: 0.0749\n",
      "Epoch 4/10\n",
      "\u001b[1m66/66\u001b[0m \u001b[32m━━━━━━━━━━━━━━━━━━━━\u001b[0m\u001b[37m\u001b[0m \u001b[1m15s\u001b[0m 224ms/step - accuracy: 0.9788 - loss: 0.0666 - val_accuracy: 0.9742 - val_loss: 0.0771\n",
      "Epoch 5/10\n",
      "\u001b[1m66/66\u001b[0m \u001b[32m━━━━━━━━━━━━━━━━━━━━\u001b[0m\u001b[37m\u001b[0m \u001b[1m14s\u001b[0m 209ms/step - accuracy: 0.9757 - loss: 0.0754 - val_accuracy: 0.9763 - val_loss: 0.0697\n",
      "Epoch 6/10\n",
      "\u001b[1m66/66\u001b[0m \u001b[32m━━━━━━━━━━━━━━━━━━━━\u001b[0m\u001b[37m\u001b[0m \u001b[1m14s\u001b[0m 212ms/step - accuracy: 0.9867 - loss: 0.0493 - val_accuracy: 0.9756 - val_loss: 0.0695\n",
      "Epoch 7/10\n",
      "\u001b[1m66/66\u001b[0m \u001b[32m━━━━━━━━━━━━━━━━━━━━\u001b[0m\u001b[37m\u001b[0m \u001b[1m14s\u001b[0m 211ms/step - accuracy: 0.9881 - loss: 0.0397 - val_accuracy: 0.9749 - val_loss: 0.0726\n",
      "Epoch 8/10\n",
      "\u001b[1m66/66\u001b[0m \u001b[32m━━━━━━━━━━━━━━━━━━━━\u001b[0m\u001b[37m\u001b[0m \u001b[1m14s\u001b[0m 211ms/step - accuracy: 0.9871 - loss: 0.0417 - val_accuracy: 0.9749 - val_loss: 0.0805\n",
      "Epoch 9/10\n",
      "\u001b[1m66/66\u001b[0m \u001b[32m━━━━━━━━━━━━━━━━━━━━\u001b[0m\u001b[37m\u001b[0m \u001b[1m14s\u001b[0m 212ms/step - accuracy: 0.9914 - loss: 0.0322 - val_accuracy: 0.9770 - val_loss: 0.0699\n",
      "Epoch 10/10\n",
      "\u001b[1m66/66\u001b[0m \u001b[32m━━━━━━━━━━━━━━━━━━━━\u001b[0m\u001b[37m\u001b[0m \u001b[1m12s\u001b[0m 179ms/step - accuracy: 0.9923 - loss: 0.0287 - val_accuracy: 0.9756 - val_loss: 0.0685\n"
     ]
    }
   ],
   "source": [
    "import matplotlib.pyplot as plt\n",
    "\n",
    "# Train the model\n",
    "history = model.fit(X_train, Y_train, \n",
    "                    validation_data=(X_test, Y_test), \n",
    "                    batch_size=64, \n",
    "                    epochs=10, \n",
    "                    verbose=1)\n",
    "\n",
    "\n"
   ]
  },
  {
   "cell_type": "markdown",
   "metadata": {},
   "source": [
    "### model evaluation "
   ]
  },
  {
   "cell_type": "code",
   "execution_count": 49,
   "metadata": {},
   "outputs": [
    {
     "data": {
      "image/png": "[encoded data removed]",
      "text/plain": [
       "<Figure size 640x480 with 1 Axes>"
      ]
     },
     "metadata": {},
     "output_type": "display_data"
    }
   ],
   "source": [
    "# Extract accuracy and validation accuracy from history\n",
    "acc = history.history['accuracy']\n",
    "val_acc = history.history['val_accuracy']\n",
    "epochs = range(1, len(acc) + 1)\n",
    "\n",
    "# Plot accuracy\n",
    "plt.plot(epochs, acc, 'r', label=\"Training Accuracy\")\n",
    "plt.plot(epochs, val_acc, 'b', label=\"Validation Accuracy\")\n",
    "plt.title(\"Training & Validation Accuracy\")\n",
    "plt.xlabel(\"Epochs\")\n",
    "plt.ylabel(\"Accuracy\")\n",
    "plt.legend()\n",
    "plt.show()"
   ]
  },
  {
   "cell_type": "code",
   "execution_count": 53,
   "metadata": {},
   "outputs": [
    {
     "name": "stdout",
     "output_type": "stream",
     "text": [
      "\u001b[1m1/1\u001b[0m \u001b[32m━━━━━━━━━━━━━━━━━━━━\u001b[0m\u001b[37m\u001b[0m \u001b[1m0s\u001b[0m 145ms/step\n",
      "spam\n"
     ]
    }
   ],
   "source": [
    "def prediction(model, sms, tokenizer, int2word, sen_length):\n",
    "    # Convert the SMS to sequences\n",
    "    seq = tokenizer.texts_to_sequences([sms])\n",
    "    # Pad the sequences\n",
    "    seq = pad_sequences(seq, maxlen=sen_length)\n",
    "    # Predict the class\n",
    "    predict = model.predict(seq)[0]\n",
    "    # Get the class with the highest probability\n",
    "    predicted_class = np.argmax(predict)\n",
    "    # Convert the class index to word\n",
    "    return int2word[predicted_class]\n",
    "\n",
    "# Example usage:\n",
    "# Assuming 'tokenizer', 'int2word', 'sen_length' are defined\n",
    "sms = \"\"\"\n",
    "Free entry in 2 a wkly comp to win FA Cup final tkts 21st May 2005. Text FA to 87121 to receive entry question(std txt rate)T&C's apply 08452810075over18's\n",
    "\"\"\"\n",
    "\n",
    "\n",
    "predicted_label = prediction(model, sms, tokenizer, int2word, sen_length)\n",
    "print(predicted_label)\n"
   ]
  },
  {
   "cell_type": "code",
   "execution_count": null,
   "metadata": {},
   "outputs": [],
   "source": []
  }
 ],
 "metadata": {
  "kernelspec": {
   "display_name": "simple-project",
   "language": "python",
   "name": "python3"
  },
  "language_info": {
   "codemirror_mode": {
    "name": "ipython",
    "version": 3
   },
   "file_extension": ".py",
   "mimetype": "text/x-python",
   "name": "python",
   "nbconvert_exporter": "python",
   "pygments_lexer": "ipython3",
   "version": "3.11.8"
  }
 },
 "nbformat": 4,
 "nbformat_minor": 2
}
